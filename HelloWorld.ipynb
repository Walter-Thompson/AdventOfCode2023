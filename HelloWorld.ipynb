{
 "cells": [
  {
   "cell_type": "code",
   "execution_count": 1,
   "metadata": {},
   "outputs": [
    {
     "name": "stdout",
     "output_type": "stream",
     "text": [
      "Hello World\n"
     ]
    }
   ],
   "source": [
    "print(\"Hello World\")"
   ]
  },
  {
   "cell_type": "code",
   "execution_count": 136,
   "metadata": {},
   "outputs": [
    {
     "name": "stdout",
     "output_type": "stream",
     "text": [
      "54388\n",
      "53515\n"
     ]
    }
   ],
   "source": [
    "#Point to input data location\n",
    "input_file = r\"C:\\Users\\thompsow0570\\OneDrive - ARCADIS\\Documents\\Repositories\\AdventOfCode2023\\Inputs\\day1.txt\"\n",
    "\n",
    "#Read input data file\n",
    "with open(input_file) as file:\n",
    "    data = [line.rstrip() for line in file]\n",
    "\n",
    "#Initiate lists\n",
    "calibration_values = []\n",
    "line_int_list = []\n",
    "int_in_line = []\n",
    "\n",
    "#--------- Part 1 ----------#\n",
    "#Read data line by line and convert numbers to integers, skipping the strings (letters)\n",
    "for line in data:\n",
    "    int_in_line = []\n",
    "\n",
    "    for char in line:\n",
    "        try:\n",
    "            char = int(char)\n",
    "            int_in_line.append(char)\n",
    "        except:\n",
    "            pass\n",
    "\n",
    "    line_int_list.append(int_in_line)   #each line, spit back the result to the master list     \n",
    "\n",
    "#Take only the first and last digit of each line, concatenate them, and report back to master list\n",
    "for line in line_int_list:\n",
    "    first_digit = line[0]\n",
    "    last_digit = line[-1]\n",
    "\n",
    "    calibration_values.append(int(str(first_digit)+str(last_digit)))\n",
    "\n",
    "###### Sum of all calibration values #####\n",
    "calib_sum = sum(calibration_values)\n",
    "print(calib_sum)\n",
    "\n",
    "#--------- Part 2 ---------#\n",
    "\n",
    "numbermap = {\"one\":\"1\",\"two\":\"2\",\"three\":\"3\",\"four\":\"4\",\"five\":\"5\",\"six\":\"6\",\"seven\":\"7\",\"eight\":\"8\",\"nine\":\"9\"}\n",
    "\n",
    "#Initiate lists\n",
    "calibration_values = []\n",
    "line_int_list = []\n",
    "int_in_line = []\n",
    "\n",
    "#Read data line by line\n",
    "for line in data:\n",
    "    int_in_line = []\n",
    "    #Find all the substrings corresponding to numbers and store them in a replacements list. This is very important for cases like \"eightwo\" and \"oneight\".\n",
    "    replacements_list = []\n",
    "    for number in numbermap:\n",
    "        if line.lower().find(number) != -1:\n",
    "            replacements_list.append([number,line.lower().find(number)])\n",
    "\n",
    "    #Do the same using rfind for the right hand values (if any)\n",
    "    for number in numbermap:\n",
    "        if line.lower().rfind(number) != -1:\n",
    "            replacements_list.append([number,line.lower().rfind(number)])\n",
    "    \n",
    "    #Go through all the replacements necessary\n",
    "    replacement_count = 0\n",
    "    for item in replacements_list:\n",
    "        line = line[:item[1]+replacement_count] + numbermap.get(item[0]) + line[item[1]+replacement_count:]\n",
    "        replacement_count+=1\n",
    "    #Same process as part 1\n",
    "    for char in line:\n",
    "        try:\n",
    "            char = int(char)\n",
    "            int_in_line.append(char)\n",
    "        except:\n",
    "            pass\n",
    "\n",
    "    line_int_list.append(int_in_line)   #each line, spit back the result to the master list\n",
    "\n",
    "#Take only the first and last digit of each line, concatenate them, and report back to master list\n",
    "for line in line_int_list:\n",
    "    first_digit = line[0]\n",
    "    last_digit = line[-1]\n",
    "\n",
    "    calibration_values.append(int(str(first_digit)+str(last_digit)))\n",
    "\n",
    "###### Sum of all calibration values #####\n",
    "calib_sum = sum(calibration_values)\n",
    "print(calib_sum)\n",
    "\n",
    "\n"
   ]
  },
  {
   "cell_type": "code",
   "execution_count": 108,
   "metadata": {},
   "outputs": [
    {
     "data": {
      "text/plain": [
       "32"
      ]
     },
     "execution_count": 108,
     "metadata": {},
     "output_type": "execute_result"
    }
   ],
   "source": [
    "calibration_values[0]"
   ]
  },
  {
   "cell_type": "code",
   "execution_count": 92,
   "metadata": {},
   "outputs": [
    {
     "data": {
      "text/plain": [
       "'9'"
      ]
     },
     "execution_count": 92,
     "metadata": {},
     "output_type": "execute_result"
    }
   ],
   "source": [
    "numbermap.get(number)"
   ]
  },
  {
   "cell_type": "code",
   "execution_count": 138,
   "metadata": {},
   "outputs": [
    {
     "name": "stdout",
     "output_type": "stream",
     "text": [
      "54388\n"
     ]
    }
   ],
   "source": [
    "import re\n",
    "#Point to input data location\n",
    "input_file = r\"C:\\Users\\thompsow0570\\OneDrive - ARCADIS\\Documents\\Repositories\\AdventOfCode2023\\Inputs\\day1.txt\"\n",
    "\n",
    "digit_list = []\n",
    "with open(input_file, \"r\") as file:\n",
    "    for line in file:\n",
    "        numbers = re.findall(r'[1-9]', line)\n",
    "        double_digit = numbers[0] + numbers[-1]\n",
    "        digit_list.append(int(double_digit))\n",
    "print(sum(digit_list))"
   ]
  },
  {
   "cell_type": "code",
   "execution_count": null,
   "metadata": {},
   "outputs": [],
   "source": []
  }
 ],
 "metadata": {
  "kernelspec": {
   "display_name": "base",
   "language": "python",
   "name": "python3"
  },
  "language_info": {
   "codemirror_mode": {
    "name": "ipython",
    "version": 3
   },
   "file_extension": ".py",
   "mimetype": "text/x-python",
   "name": "python",
   "nbconvert_exporter": "python",
   "pygments_lexer": "ipython3",
   "version": "3.9.13"
  }
 },
 "nbformat": 4,
 "nbformat_minor": 2
}
