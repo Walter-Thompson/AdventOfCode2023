{
 "cells": [
  {
   "cell_type": "code",
   "execution_count": 1,
   "metadata": {},
   "outputs": [
    {
     "name": "stdout",
     "output_type": "stream",
     "text": [
      "Hello World\n"
     ]
    }
   ],
   "source": [
    "print(\"Hello World\")"
   ]
  },
  {
   "cell_type": "code",
   "execution_count": 39,
   "metadata": {},
   "outputs": [],
   "source": [
    "input_file = r\"C:\\Users\\thompsow0570\\OneDrive - ARCADIS\\Documents\\Repositories\\AdventOfCode2023\\Inputs\\day1.txt\"\n",
    "\n",
    "with open(input_file) as file:\n",
    "    data = [line.rstrip() for line in file]\n",
    "\n",
    "calibration_values = []\n",
    "int_in_line = []\n",
    "\n",
    "data = ['1a1',\n",
    "        'ss2']\n",
    "\n",
    "for line in data:\n",
    "    for char in line:\n",
    "        try:\n",
    "            char = int(char)\n",
    "            int_in_line.append(char)\n",
    "        except:\n",
    "            pass\n",
    "        \n",
    "calibration_values.append(int_in_line)"
   ]
  },
  {
   "cell_type": "code",
   "execution_count": 41,
   "metadata": {},
   "outputs": [
    {
     "data": {
      "text/plain": [
       "[[1, 1, 2]]"
      ]
     },
     "execution_count": 41,
     "metadata": {},
     "output_type": "execute_result"
    }
   ],
   "source": [
    "calibration_values"
   ]
  },
  {
   "cell_type": "code",
   "execution_count": null,
   "metadata": {},
   "outputs": [],
   "source": []
  }
 ],
 "metadata": {
  "kernelspec": {
   "display_name": "base",
   "language": "python",
   "name": "python3"
  },
  "language_info": {
   "codemirror_mode": {
    "name": "ipython",
    "version": 3
   },
   "file_extension": ".py",
   "mimetype": "text/x-python",
   "name": "python",
   "nbconvert_exporter": "python",
   "pygments_lexer": "ipython3",
   "version": "3.9.13"
  }
 },
 "nbformat": 4,
 "nbformat_minor": 2
}
