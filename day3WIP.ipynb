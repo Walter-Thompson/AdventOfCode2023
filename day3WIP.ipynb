{
 "cells": [
  {
   "cell_type": "code",
   "execution_count": 85,
   "metadata": {},
   "outputs": [],
   "source": [
    "import re\n",
    "\n",
    "#Point to input data location\n",
    "input_file = r\"C:\\Users\\walte\\Documents\\GitHub\\AdventOfCode2023\\Inputs\\day3.txt\"\n",
    "\n",
    "#Read input data file\n",
    "with open(input_file) as file:\n",
    "    data = [line.rstrip() for line in file]\n",
    "\n",
    "#------------ PART 1 -----------#\n",
    "#test data\n",
    "data =  [\"467..114..\",\"...*......\",\"..35..633.\",\"......#...\",\"617*......\",\".....+.58.\",\"..592.....\",\"......755.\",\"...$.*....\",\".664.598..\"]\n",
    "\n",
    "digit_matches = []\n",
    "dot_matches = []\n",
    "symbol_matches = []\n",
    "symbol_row_matches = []\n",
    "digit_row_matches = []\n",
    "\n",
    "#first, let's find the symbols and numbers\n",
    "row_counter = 0\n",
    "for row in data:\n",
    "    #Find symbols\n",
    "    for match in re.finditer(r\"[^0-9.]+\",row):\n",
    "        symbol_row_matches.append(row_counter)\n",
    "        symbol_matches.append(match)\n",
    "    \n",
    "    #Find numbers\n",
    "    for match in re.finditer(r\"\\d+\",row):\n",
    "        digit_row_matches.append(row_counter)\n",
    "        digit_matches.append(match)\n",
    "\n",
    "    row_counter+=1\n",
    "\n",
    "#iterate through number matches and check if any point of them is next to a symbol, including diagonally\n"
   ]
  },
  {
   "cell_type": "code",
   "execution_count": 88,
   "metadata": {},
   "outputs": [
    {
     "data": {
      "text/plain": [
       "(0, 3)"
      ]
     },
     "execution_count": 88,
     "metadata": {},
     "output_type": "execute_result"
    }
   ],
   "source": [
    "digit_matches[0].span()"
   ]
  },
  {
   "cell_type": "code",
   "execution_count": 22,
   "metadata": {},
   "outputs": [
    {
     "data": {
      "text/plain": [
       "<callable_iterator at 0x1a9c5e53100>"
      ]
     },
     "execution_count": 22,
     "metadata": {},
     "output_type": "execute_result"
    }
   ],
   "source": [
    "import re\n",
    "\n",
    "re.finditer(r\"[\\!\\\"\\£\\$\\%\\^\\&\\*\\(\\)]\",data[0])"
   ]
  },
  {
   "cell_type": "code",
   "execution_count": 30,
   "metadata": {},
   "outputs": [
    {
     "name": "stdout",
     "output_type": "stream",
     "text": [
      "String match \".\" at 3:4\n"
     ]
    }
   ],
   "source": [
    "for match in re.finditer(r\"[!\\\"£$%\\^&*()]\",data[1]):\n",
    "    s = match.start()\n",
    "    e = match.end()\n",
    "    print('String match \"%s\" at %d:%d' % (data[0][s:e], s, e))\n"
   ]
  },
  {
   "cell_type": "code",
   "execution_count": null,
   "metadata": {},
   "outputs": [],
   "source": [
    "for match in re.finditer(r\"[!\\\"£$%\\^&*()#'@/><\\\\|`¬=+\\-_][\\]]\",data[0]):\n",
    "        print(\"found\")\n"
   ]
  }
 ],
 "metadata": {
  "kernelspec": {
   "display_name": "base",
   "language": "python",
   "name": "python3"
  },
  "language_info": {
   "codemirror_mode": {
    "name": "ipython",
    "version": 3
   },
   "file_extension": ".py",
   "mimetype": "text/x-python",
   "name": "python",
   "nbconvert_exporter": "python",
   "pygments_lexer": "ipython3",
   "version": "3.8.5"
  },
  "orig_nbformat": 4
 },
 "nbformat": 4,
 "nbformat_minor": 2
}
