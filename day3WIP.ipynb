{
 "cells": [
  {
   "cell_type": "code",
   "execution_count": 112,
   "metadata": {},
   "outputs": [
    {
     "name": "stdout",
     "output_type": "stream",
     "text": [
      "Part 1 answer is: 535078\n",
      "Part 2 answer is: 75312571\n"
     ]
    }
   ],
   "source": [
    "import re\n",
    "import numpy as np\n",
    "\n",
    "#Point to input data location\n",
    "input_file = r\"C:\\Users\\walte\\Documents\\GitHub\\AdventOfCode2023\\Inputs\\day3.txt\"\n",
    "\n",
    "#Read input data file\n",
    "with open(input_file) as file:\n",
    "    data = [line.rstrip() for line in file]\n",
    "\n",
    "#------------ PART 1 -----------#\n",
    "#test data\n",
    "#data =  [\"467..114..\",\"...*......\",\"..35..633.\",\"......#...\",\"617*......\",\".....+.58.\",\"..592.....\",\"......755.\",\"...$.*....\",\".664.598..\"]\n",
    "\n",
    "number_matches = []\n",
    "#dot_matches = []\n",
    "symbol_matches = []\n",
    "symbol_match_rows = []\n",
    "number_match_rows = []\n",
    "\n",
    "trigger_zones = np.zeros((len(data),len(data[0])),np.int8)\n",
    "\n",
    "valid_nums = []\n",
    "\n",
    "#first, let's find the symbols and numbers\n",
    "row_counter = 0\n",
    "for row in data:\n",
    "    #Find symbols\n",
    "    for match in re.finditer(r\"[^0-9.]+\",row):\n",
    "        symbol_match_rows.append(row_counter)\n",
    "        symbol_matches.append(match)\n",
    "    \n",
    "    #Find numbers\n",
    "    for match in re.finditer(r\"\\d+\",row):\n",
    "        number_match_rows.append(row_counter)\n",
    "        number_matches.append(match)\n",
    "\n",
    "    row_counter+=1\n",
    "\n",
    "#build trigger zones in 3x3 grid around symbols\n",
    "for i in range(len(symbol_matches)):\n",
    "    column = symbol_matches[i].span()[0]\n",
    "    row = symbol_match_rows[i]\n",
    "    #set trigger zones to 1 around symbols\n",
    "    trigger_zones[row-1:row+2,column-1:column+2] = 1\n",
    "\n",
    "\n",
    "#iterate through number matches and check if any point of them lies in the trigger zone\n",
    "for i in range(len(number_matches)):\n",
    "    row = number_match_rows[i]\n",
    "    span_start = number_matches[i].span()[0]\n",
    "    span_end = number_matches[i].span()[1]-1\n",
    "    number = int(number_matches[i][0])\n",
    "    #Do the check\n",
    "    if trigger_zones[row,span_start] == 1 or trigger_zones[row,span_end] == 1:\n",
    "        valid_nums.append(number)\n",
    "\n",
    "#Part 1 Answer\n",
    "answer = sum(valid_nums)\n",
    "print(\"Part 1 answer is:\",answer)\n",
    "\n",
    "#-------------PART 2----------------#\n",
    "#test data\n",
    "#data =  [\"467..114..\",\"...*......\",\"..35..633.\",\"......#...\",\"617*......\",\".....+.58.\",\"..592.....\",\"......755.\",\"...$.*....\",\".664.598..\"]\n",
    "\n",
    "number_matches = []\n",
    "symbol_matches = []\n",
    "symbol_match_rows = []\n",
    "number_match_rows = []\n",
    "\n",
    "gear_ratios = []\n",
    "\n",
    "#first, let's find the symbols and numbers\n",
    "row_counter = 0\n",
    "for row in data:\n",
    "    #Find symbols\n",
    "    for match in re.finditer(r\"\\*\",row):\n",
    "        symbol_match_rows.append(row_counter)\n",
    "        symbol_matches.append(match)\n",
    "    \n",
    "    #Find numbers\n",
    "    for match in re.finditer(r\"\\d+\",row):\n",
    "        number_match_rows.append(row_counter)\n",
    "        number_matches.append(match)\n",
    "\n",
    "    row_counter+=1\n",
    "\n",
    "#Belt and braces approach... do it one * at a time.\n",
    "\n",
    "#build trigger zones in 3x3 grid around symbols\n",
    "for i in range(len(symbol_matches)):\n",
    "    #initialise trigger_zones fresh each time\n",
    "    trigger_zones = np.zeros((len(data),len(data[0])),np.int8)\n",
    "    potential_ratios = []\n",
    "\n",
    "    column = symbol_matches[i].span()[0]\n",
    "    row = symbol_match_rows[i]\n",
    "    #set trigger zones to 1 around symbols ONE AT A TIME, as we are in the for loop\n",
    "    trigger_zones[row-1:row+2,column-1:column+2] = 1\n",
    "    #iterate through number matches and check if any point of them lies in the trigger zone\n",
    "    for i in range(len(number_matches)):\n",
    "        row = number_match_rows[i]\n",
    "        span_start = number_matches[i].span()[0]\n",
    "        span_end = number_matches[i].span()[1]-1\n",
    "        number = int(number_matches[i][0])\n",
    "        #Do the check\n",
    "        if trigger_zones[row,span_start] == 1 or trigger_zones[row,span_end] == 1:\n",
    "            potential_ratios.append(number)\n",
    "    \n",
    "    if len(potential_ratios) == 2:\n",
    "        gear_ratios.append(potential_ratios[0]*potential_ratios[1])\n",
    "    \n",
    "\n",
    "#Part 1 Answer\n",
    "answer = sum(gear_ratios)\n",
    "print(\"Part 2 answer is:\",answer)"
   ]
  },
  {
   "cell_type": "code",
   "execution_count": 102,
   "metadata": {},
   "outputs": [
    {
     "data": {
      "text/plain": [
       "array([[0, 0, 1, 1, 1, 0, 0, 0, 0, 0],\n",
       "       [0, 0, 1, 1, 1, 0, 0, 0, 0, 0],\n",
       "       [0, 0, 1, 1, 1, 1, 1, 1, 0, 0],\n",
       "       [0, 0, 1, 1, 1, 1, 1, 1, 0, 0],\n",
       "       [0, 0, 1, 1, 1, 1, 1, 1, 0, 0],\n",
       "       [0, 0, 1, 1, 1, 1, 1, 0, 0, 0],\n",
       "       [0, 0, 0, 0, 1, 1, 1, 0, 0, 0],\n",
       "       [0, 0, 1, 1, 1, 1, 1, 0, 0, 0],\n",
       "       [0, 0, 1, 1, 1, 1, 1, 0, 0, 0],\n",
       "       [0, 0, 1, 1, 1, 1, 1, 0, 0, 0]], dtype=int8)"
      ]
     },
     "execution_count": 102,
     "metadata": {},
     "output_type": "execute_result"
    }
   ],
   "source": [
    "trigger_zones"
   ]
  },
  {
   "cell_type": "code",
   "execution_count": 105,
   "metadata": {},
   "outputs": [
    {
     "data": {
      "text/plain": [
       "<re.Match object; span=(5, 8), match='598'>"
      ]
     },
     "execution_count": 105,
     "metadata": {},
     "output_type": "execute_result"
    }
   ],
   "source": [
    "number_matches[i]\n"
   ]
  },
  {
   "cell_type": "code",
   "execution_count": 30,
   "metadata": {},
   "outputs": [
    {
     "name": "stdout",
     "output_type": "stream",
     "text": [
      "String match \".\" at 3:4\n"
     ]
    }
   ],
   "source": [
    "for match in re.finditer(r\"[!\\\"£$%\\^&*()]\",data[1]):\n",
    "    s = match.start()\n",
    "    e = match.end()\n",
    "    print('String match \"%s\" at %d:%d' % (data[0][s:e], s, e))\n"
   ]
  },
  {
   "cell_type": "code",
   "execution_count": null,
   "metadata": {},
   "outputs": [],
   "source": [
    "for match in re.finditer(r\"[!\\\"£$%\\^&*()#'@/><\\\\|`¬=+\\-_][\\]]\",data[0]):\n",
    "        print(\"found\")\n"
   ]
  }
 ],
 "metadata": {
  "kernelspec": {
   "display_name": "base",
   "language": "python",
   "name": "python3"
  },
  "language_info": {
   "codemirror_mode": {
    "name": "ipython",
    "version": 3
   },
   "file_extension": ".py",
   "mimetype": "text/x-python",
   "name": "python",
   "nbconvert_exporter": "python",
   "pygments_lexer": "ipython3",
   "version": "3.8.5"
  },
  "orig_nbformat": 4
 },
 "nbformat": 4,
 "nbformat_minor": 2
}
