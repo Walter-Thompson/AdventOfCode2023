{
 "cells": [
  {
   "cell_type": "code",
   "execution_count": 10,
   "metadata": {},
   "outputs": [
    {
     "name": "stdout",
     "output_type": "stream",
     "text": [
      "Part 1 answer: 449820\n",
      "5733493\n",
      "47984387\n",
      "Part 2 answer: 42250895\n"
     ]
    }
   ],
   "source": [
    "import numpy as np\n",
    "\n",
    "#Point to input data location\n",
    "input_file = r\"C:\\Users\\thompsow0570\\OneDrive - ARCADIS\\Documents\\Repositories\\AdventOfCode2023\\Inputs\\day6.txt\"\n",
    "\n",
    "#Read input data file\n",
    "with open(input_file) as file:\n",
    "    data = [line.rstrip() for line in file]\n",
    "\n",
    "#data =  ['Time:      7  15   30','Distance:  9  40  200']\n",
    "\n",
    "times = data[0].split(\":     \")[1].split()\n",
    "dists = data[1].split(\": \")[1].split()\n",
    "\n",
    "win_combs = []\n",
    "\n",
    "for i in range(len(times)):\n",
    "    race_time = int(times[i])\n",
    "    race_dist = int(dists[i])\n",
    "\n",
    "    race_combs = []\n",
    "\n",
    "    for charge in range(race_time):\n",
    "        speed = charge\n",
    "        time = race_time - charge\n",
    "        dist = speed*time\n",
    "        if dist > race_dist:\n",
    "            race_combs.append(dist)\n",
    "\n",
    "    win_combs.append(len(race_combs))\n",
    "\n",
    "print(\"Part 1 answer:\", np.prod(win_combs))\n",
    "\n",
    "#-------------PART 2---------------#\n",
    "\n",
    "times = data[0].split(\":     \")[1].split()\n",
    "dists = data[1].split(\": \")[1].split()\n",
    "\n",
    "times = int(''.join(times))\n",
    "dists = int(''.join(dists))\n",
    "\n",
    "win_combs = []\n",
    "\n",
    "#find min time to win\n",
    "\n",
    "for charge in range(times):\n",
    "    speed = charge\n",
    "    time = times - charge\n",
    "    dist = speed*time\n",
    "    if dist > dists:\n",
    "        print(charge)\n",
    "        win_combs.append(charge)\n",
    "        break\n",
    "\n",
    "#find max time to win\n",
    "\n",
    "for charge in range(times,0,-1):\n",
    "    speed = charge\n",
    "    time = times - charge\n",
    "    dist = speed*time\n",
    "    if dist > dists:\n",
    "        print(charge)\n",
    "        win_combs.append(charge)\n",
    "        break\n",
    "\n",
    "num_wins = win_combs[1]-win_combs[0]+1    \n",
    "\n",
    "print(\"Part 2 answer:\", num_wins)"
   ]
  },
  {
   "cell_type": "code",
   "execution_count": 26,
   "metadata": {},
   "outputs": [
    {
     "data": {
      "text/plain": [
       "'53717880'"
      ]
     },
     "execution_count": 26,
     "metadata": {},
     "output_type": "execute_result"
    }
   ],
   "source": [
    "''.join(times)"
   ]
  },
  {
   "cell_type": "code",
   "execution_count": null,
   "metadata": {},
   "outputs": [],
   "source": []
  }
 ],
 "metadata": {
  "kernelspec": {
   "display_name": "base",
   "language": "python",
   "name": "python3"
  },
  "language_info": {
   "codemirror_mode": {
    "name": "ipython",
    "version": 3
   },
   "file_extension": ".py",
   "mimetype": "text/x-python",
   "name": "python",
   "nbconvert_exporter": "python",
   "pygments_lexer": "ipython3",
   "version": "3.9.13"
  }
 },
 "nbformat": 4,
 "nbformat_minor": 2
}
