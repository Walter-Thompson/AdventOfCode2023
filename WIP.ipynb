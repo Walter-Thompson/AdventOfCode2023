{
 "cells": [
  {
   "cell_type": "code",
   "execution_count": 37,
   "metadata": {},
   "outputs": [
    {
     "name": "stdout",
     "output_type": "stream",
     "text": [
      "Part 1 answer is: 18619\n"
     ]
    },
    {
     "ename": "KeyboardInterrupt",
     "evalue": "",
     "output_type": "error",
     "traceback": [
      "\u001b[1;31m---------------------------------------------------------------------------\u001b[0m",
      "\u001b[1;31mKeyboardInterrupt\u001b[0m                         Traceback (most recent call last)",
      "\u001b[1;32mc:\\Users\\walte\\Documents\\GitHub\\AdventOfCode2023\\WIP.ipynb Cell 1\u001b[0m line \u001b[0;36m6\n\u001b[0;32m     <a href='vscode-notebook-cell:/c%3A/Users/walte/Documents/GitHub/AdventOfCode2023/WIP.ipynb#W0sZmlsZQ%3D%3D?line=57'>58</a>\u001b[0m                 num_append \u001b[39m=\u001b[39m num_append \u001b[39m+\u001b[39m \u001b[39m1\u001b[39m\n\u001b[0;32m     <a href='vscode-notebook-cell:/c%3A/Users/walte/Documents/GitHub/AdventOfCode2023/WIP.ipynb#W0sZmlsZQ%3D%3D?line=59'>60</a>\u001b[0m     \u001b[39mfor\u001b[39;00m score \u001b[39min\u001b[39;00m scores:\n\u001b[1;32m---> <a href='vscode-notebook-cell:/c%3A/Users/walte/Documents/GitHub/AdventOfCode2023/WIP.ipynb#W0sZmlsZQ%3D%3D?line=60'>61</a>\u001b[0m         card_numbers\u001b[39m.\u001b[39minsert(\u001b[39mmax\u001b[39;49m(loc \u001b[39mfor\u001b[39;49;00m loc, val \u001b[39min\u001b[39;49;00m \u001b[39menumerate\u001b[39;49m(card_numbers) \u001b[39mif\u001b[39;49;00m val \u001b[39m==\u001b[39;49m score),score)\n\u001b[0;32m     <a href='vscode-notebook-cell:/c%3A/Users/walte/Documents/GitHub/AdventOfCode2023/WIP.ipynb#W0sZmlsZQ%3D%3D?line=61'>62</a>\u001b[0m         \u001b[39m#print(card_numbers)\u001b[39;00m\n\u001b[0;32m     <a href='vscode-notebook-cell:/c%3A/Users/walte/Documents/GitHub/AdventOfCode2023/WIP.ipynb#W0sZmlsZQ%3D%3D?line=62'>63</a>\u001b[0m         \u001b[39m#time.sleep(2)\u001b[39;00m\n\u001b[0;32m     <a href='vscode-notebook-cell:/c%3A/Users/walte/Documents/GitHub/AdventOfCode2023/WIP.ipynb#W0sZmlsZQ%3D%3D?line=64'>65</a>\u001b[0m total \u001b[39m=\u001b[39m \u001b[39mlen\u001b[39m(card_numbers)\n",
      "\u001b[1;32mc:\\Users\\walte\\Documents\\GitHub\\AdventOfCode2023\\WIP.ipynb Cell 1\u001b[0m line \u001b[0;36m6\n\u001b[0;32m     <a href='vscode-notebook-cell:/c%3A/Users/walte/Documents/GitHub/AdventOfCode2023/WIP.ipynb#W0sZmlsZQ%3D%3D?line=57'>58</a>\u001b[0m                 num_append \u001b[39m=\u001b[39m num_append \u001b[39m+\u001b[39m \u001b[39m1\u001b[39m\n\u001b[0;32m     <a href='vscode-notebook-cell:/c%3A/Users/walte/Documents/GitHub/AdventOfCode2023/WIP.ipynb#W0sZmlsZQ%3D%3D?line=59'>60</a>\u001b[0m     \u001b[39mfor\u001b[39;00m score \u001b[39min\u001b[39;00m scores:\n\u001b[1;32m---> <a href='vscode-notebook-cell:/c%3A/Users/walte/Documents/GitHub/AdventOfCode2023/WIP.ipynb#W0sZmlsZQ%3D%3D?line=60'>61</a>\u001b[0m         card_numbers\u001b[39m.\u001b[39minsert(\u001b[39mmax\u001b[39m(loc \u001b[39mfor\u001b[39;00m loc, val \u001b[39min\u001b[39;00m \u001b[39menumerate\u001b[39m(card_numbers) \u001b[39mif\u001b[39;00m val \u001b[39m==\u001b[39m score),score)\n\u001b[0;32m     <a href='vscode-notebook-cell:/c%3A/Users/walte/Documents/GitHub/AdventOfCode2023/WIP.ipynb#W0sZmlsZQ%3D%3D?line=61'>62</a>\u001b[0m         \u001b[39m#print(card_numbers)\u001b[39;00m\n\u001b[0;32m     <a href='vscode-notebook-cell:/c%3A/Users/walte/Documents/GitHub/AdventOfCode2023/WIP.ipynb#W0sZmlsZQ%3D%3D?line=62'>63</a>\u001b[0m         \u001b[39m#time.sleep(2)\u001b[39;00m\n\u001b[0;32m     <a href='vscode-notebook-cell:/c%3A/Users/walte/Documents/GitHub/AdventOfCode2023/WIP.ipynb#W0sZmlsZQ%3D%3D?line=64'>65</a>\u001b[0m total \u001b[39m=\u001b[39m \u001b[39mlen\u001b[39m(card_numbers)\n",
      "\u001b[1;31mKeyboardInterrupt\u001b[0m: "
     ]
    }
   ],
   "source": [
    "#Point to input data location\n",
    "input_file = r\"C:\\Users\\walte\\Documents\\GitHub\\AdventOfCode2023\\Inputs\\day4.txt\"\n",
    "\n",
    "#Read input data file\n",
    "with open(input_file) as file:\n",
    "    data = [line.rstrip() for line in file]\n",
    "\n",
    "#test data\n",
    "#data = [\"Card 1: 41 48 83 86 17 | 83 86  6 31 17  9 48 53\",\"Card 2: 13 32 20 16 61 | 61 30 68 82 17 32 24 19\",\"Card 3:  1 21 53 59 44 | 69 82 63 72 16 21 14  1\",\"Card 4: 41 92 73 84 69 | 59 84 76 51 58  5 54 83\",\"Card 5: 87 83 26 28 32 | 88 30 70 12 93 22 82 36\",\"Card 6: 31 18 13 56 72 | 74 77 10 23 35 67 36 11\"]\n",
    "\n",
    "scores = []\n",
    "\n",
    "for card in data:\n",
    "\n",
    "    winning_numbers = card.split(\": \")[1].split(\"|\")[0].split()\n",
    "    our_numbers = card.split(\": \")[1].split(\"|\")[1].split()\n",
    "\n",
    "    score = 0\n",
    "    for number in winning_numbers:\n",
    "        if number in our_numbers:\n",
    "            if score == 0:\n",
    "                score = 1\n",
    "            else:\n",
    "                score = score*2\n",
    "  \n",
    "    scores.append(score)\n",
    "\n",
    "total = sum(scores)\n",
    "\n",
    "#Part 1 answer\n",
    "print(\"Part 1 answer is:\",total)\n",
    "\n",
    "#---------------PART 2------------#\n",
    "import time\n",
    "#test data\n",
    "#data = [\"Card 1: 41 48 83 86 17 | 83 86  6 31 17  9 48 53\",\"Card 2: 13 32 20 16 61 | 61 30 68 82 17 32 24 19\",\"Card 3:  1 21 53 59 44 | 69 82 63 72 16 21 14  1\",\"Card 4: 41 92 73 84 69 | 59 84 76 51 58  5 54 83\",\"Card 5: 87 83 26 28 32 | 88 30 70 12 93 22 82 36\",\"Card 6: 31 18 13 56 72 | 72 77 10 23 35 67 36 11\"]\n",
    "\n",
    "number_of_cards = 0\n",
    "\n",
    "card_numbers = [*range(1,len(data)+1)]\n",
    "\n",
    "for number in card_numbers:\n",
    "    #print(card_numbers)\n",
    "    card = data[number-1]\n",
    "\n",
    "    winning_numbers = card.split(\": \")[1].split(\"|\")[0].split()\n",
    "    our_numbers = card.split(\": \")[1].split(\"|\")[1].split()\n",
    "\n",
    "    scores = []\n",
    "    num_append = number+1\n",
    "\n",
    "    #find the score of each row\n",
    "    for x in winning_numbers:\n",
    "        if x in our_numbers:\n",
    "            #Only execute if we're not going to go beyond\n",
    "            if num_append < len(data):\n",
    "                scores.append(num_append)\n",
    "                num_append = num_append + 1\n",
    "    \n",
    "    for score in scores:\n",
    "        card_numbers.insert(max(loc for loc, val in enumerate(card_numbers) if val == score),score)\n",
    "        #print(card_numbers)\n",
    "        #time.sleep(2)\n",
    "\n",
    "total = len(card_numbers)\n",
    "\n",
    "#Part 2 answer\n",
    "print(\"Part 2 answer is:\",total)"
   ]
  },
  {
   "cell_type": "code",
   "execution_count": 21,
   "metadata": {},
   "outputs": [],
   "source": [
    "score.append(num_append)"
   ]
  },
  {
   "cell_type": "code",
   "execution_count": 19,
   "metadata": {},
   "outputs": [
    {
     "data": {
      "text/plain": [
       "2"
      ]
     },
     "execution_count": 19,
     "metadata": {},
     "output_type": "execute_result"
    }
   ],
   "source": [
    "num_append"
   ]
  },
  {
   "cell_type": "code",
   "execution_count": null,
   "metadata": {},
   "outputs": [],
   "source": []
  }
 ],
 "metadata": {
  "kernelspec": {
   "display_name": "base",
   "language": "python",
   "name": "python3"
  },
  "language_info": {
   "codemirror_mode": {
    "name": "ipython",
    "version": 3
   },
   "file_extension": ".py",
   "mimetype": "text/x-python",
   "name": "python",
   "nbconvert_exporter": "python",
   "pygments_lexer": "ipython3",
   "version": "3.8.5"
  },
  "orig_nbformat": 4
 },
 "nbformat": 4,
 "nbformat_minor": 2
}
